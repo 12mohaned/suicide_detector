{
 "cells": [
  {
   "cell_type": "code",
   "execution_count": 36,
   "metadata": {},
   "outputs": [],
   "source": [
    "import praw\n",
    "import csv\n",
    "from nltk.corpus import stopwords\n",
    "from nltk.tokenize import word_tokenize\n",
    "stop_words = set(stopwords.words(\"english\"))\n",
    "punctuations=[\"?\",\":\",\"!\",\".\",\",\",\";\",\"--\",\"-\",\"’\",\";\",\"[\",\"]\",\"”\", \"“\",\"..\"]\n",
    "\n",
    "reddit = praw.Reddit(client_id='xnaNWI7K_I5i1Q',\n",
    "                     client_secret='vpOnVIa8zBgSZPLHvvo2ljJZSA4', password='tarekandamr12/',\n",
    "                     user_agent='PrawTut', username='meshomashaly')\n",
    "subreddit = reddit.subreddit(\"SuicideWatch\")\n",
    "suicidal_posts = subreddit.hot(limit = 5000)\n",
    "Text = []\n",
    "for post in suicidal_posts:\n",
    "    if not post.stickied:\n",
    "        Text.append(post.selftext)\n"
   ]
  },
  {
   "cell_type": "code",
   "execution_count": 37,
   "metadata": {},
   "outputs": [],
   "source": [
    "with open('test.csv','w',newline='') as csvfile:\n",
    "    fieldnames = ['id','text']\n",
    "    thewriter = csv.DictWriter(csvfile, fieldnames=fieldnames)\n",
    "    thewriter.writeheader()\n",
    "    id = 1\n",
    "    for text in Text:\n",
    "        Text_Tokenized = word_tokenize(text)\n",
    "        words = []\n",
    "        for word in Text_Tokenized:\n",
    "            if not word in stop_words:\n",
    "                if not word in punctuations:\n",
    "                    words.append(word)\n",
    "        if len(words) > 0:\n",
    "            thewriter.writerow({'id' : id, 'text':words})\n",
    "            id +=1\n",
    "        "
   ]
  },
  {
   "cell_type": "code",
   "execution_count": null,
   "metadata": {},
   "outputs": [],
   "source": []
  }
 ],
 "metadata": {
  "kernelspec": {
   "display_name": "Python 3",
   "language": "python",
   "name": "python3"
  },
  "language_info": {
   "codemirror_mode": {
    "name": "ipython",
    "version": 3
   },
   "file_extension": ".py",
   "mimetype": "text/x-python",
   "name": "python",
   "nbconvert_exporter": "python",
   "pygments_lexer": "ipython3",
   "version": "3.8.1"
  }
 },
 "nbformat": 4,
 "nbformat_minor": 4
}
